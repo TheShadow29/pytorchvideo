{
 "cells": [
  {
   "cell_type": "markdown",
   "metadata": {},
   "source": [
    "# Torch Hub Inference Tutorial\n",
    "\n",
    "In this tutorial you'll learn:\n",
    "- how to load a pretrained model using Torch Hub \n",
    "- run inference to classify the action in a demo video\n",
    "\n",
    "\n",
    "NOTE: Currently this tutorial will only work with a local clone of the PyTorchVideo GitHub repo. "
   ]
  },
  {
   "cell_type": "markdown",
   "metadata": {},
   "source": [
    "### Import modules"
   ]
  },
  {
   "cell_type": "code",
   "execution_count": 1,
   "metadata": {},
   "outputs": [],
   "source": [
    "import json \n",
    "import torch\n",
    "from torchvision.transforms import Compose, Lambda\n",
    "from torchvision.transforms._transforms_video import (\n",
    "    CenterCropVideo,\n",
    "    NormalizeVideo,\n",
    ")\n",
    "from pytorchvideo.data.encoded_video import EncodedVideo\n",
    "from pytorchvideo.transforms import (\n",
    "    ApplyTransformToKey,\n",
    "    ShortSideScale,\n",
    "    UniformTemporalSubsample\n",
    ") "
   ]
  },
  {
   "cell_type": "markdown",
   "metadata": {},
   "source": [
    "### Setup \n",
    "\n",
    "Download the id to label mapping for the Kinetics 400 dataset on which the torch hub models were trained. \n",
    "This will be used to get the category label names from the predicted class ids."
   ]
  },
  {
   "cell_type": "code",
   "execution_count": null,
   "metadata": {},
   "outputs": [],
   "source": [
    "!wget https://dl.fbaipublicfiles.com/pyslowfast/dataset/class_names/kinetics_classnames.json "
   ]
  },
  {
   "cell_type": "code",
   "execution_count": 2,
   "metadata": {},
   "outputs": [],
   "source": [
    "with open(\"kinetics_classnames.json\", \"r\") as f:\n",
    "    kinetics_classnames = json.load(f)\n",
    "\n",
    "# Create an id to label name mapping\n",
    "kinetics_id_to_classname = {}\n",
    "for k, v in kinetics_classnames.items():\n",
    "    kinetics_id_to_classname[v] = str(k).replace('\"', \"\")"
   ]
  },
  {
   "cell_type": "markdown",
   "metadata": {},
   "source": [
    "### Load Model using Torch Hub API\n",
    "\n",
    "PyTorchVideo provides several pretrained models through Torch Hub. Available models are described in [model zoo documentation](https://github.com/facebookresearch/pytorchvideo/blob/master/docs/source/model_zoo.md#kinetics-400). \n",
    "\n",
    "Here we are selecting the `slow_r50` model which was trained using a 8x8 setting on the Kinetics 400 dataset. \n"
   ]
  },
  {
   "cell_type": "code",
   "execution_count": 3,
   "metadata": {},
   "outputs": [],
   "source": [
    "# Device on which to run the model\n",
    "device = \"cuda:1\"\n",
    "\n",
    "# Pick a pretrained model \n",
    "model_name = \"slow_r50\"\n",
    "\n",
    "# Local path to the parent folder of hubconf.py in the pytorchvideo codebase\n",
    "path = '../' \n",
    "model = torch.hub.load(path, source=\"local\", model=model_name, pretrained=True)\n",
    "\n",
    "# Set to eval mode and move to desired device\n",
    "model = model.eval()\n",
    "model = model.to(device)"
   ]
  },
  {
   "cell_type": "markdown",
   "metadata": {},
   "source": [
    "### Define the transformations for the input required by the model\n",
    "\n",
    "Before passing the video into the model we need to apply some input transforms and sample a clip of the correct duration. "
   ]
  },
  {
   "cell_type": "code",
   "execution_count": 4,
   "metadata": {},
   "outputs": [],
   "source": [
    "side_size = 256\n",
    "mean = [0.45, 0.45, 0.45]\n",
    "std = [0.225, 0.225, 0.225]\n",
    "crop_size = 256\n",
    "num_frames = 8\n",
    "sampling_rate = 8\n",
    "frames_per_second = 30\n",
    "\n",
    "# Note that this transform is specific to the slow_R50 model. \n",
    "# If you want to try another of the torch hub models you will need to modify this transform\n",
    "transform =  ApplyTransformToKey(\n",
    "    key=\"video\",\n",
    "    transform=Compose(\n",
    "        [\n",
    "            UniformTemporalSubsample(num_frames),\n",
    "            Lambda(lambda x: x/255.0),\n",
    "            NormalizeVideo(mean, std),\n",
    "            ShortSideScale(\n",
    "                size=side_size\n",
    "            ),\n",
    "            CenterCropVideo(crop_size=(crop_size, crop_size))\n",
    "        ]\n",
    "    ),\n",
    ")\n",
    "\n",
    "# The duration of the input clip is also specific to the model.\n",
    "clip_duration = (num_frames * sampling_rate)/frames_per_second"
   ]
  },
  {
   "cell_type": "markdown",
   "metadata": {},
   "source": [
    "### Load an example video\n",
    "We can test the classification of an example video from the kinetics validation set such as this [archery video](https://www.youtube.com/watch?v=3and4vWkW4s)."
   ]
  },
  {
   "cell_type": "code",
   "execution_count": null,
   "metadata": {},
   "outputs": [],
   "source": [
    "# Download the example video file\n",
    "# !wget https://dl.fbaipublicfiles.com/pytorchvideo/projects/archery.mp4 "
   ]
  },
  {
   "cell_type": "code",
   "execution_count": null,
   "metadata": {},
   "outputs": [],
   "source": [
    "# Load the example video\n",
    "video_path = \"archery.mp4\"  \n",
    "\n",
    "# Select the duration of the clip to load by specifying the start and end duration\n",
    "# The start_sec should correspond to where the action occurs in the video\n",
    "start_sec = 0"
   ]
  },
  {
   "cell_type": "code",
   "execution_count": 5,
   "metadata": {},
   "outputs": [],
   "source": [
    "def get_inp(video_path, start_sec, clip_duration):\n",
    "    end_sec = start_sec + clip_duration \n",
    "\n",
    "    # Initialize an EncodedVideo helper class\n",
    "    video = EncodedVideo.from_path(video_path)\n",
    "\n",
    "    # Load the desired clip\n",
    "    video_data = video.get_clip(start_sec=start_sec, end_sec=end_sec)\n",
    "\n",
    "    # Apply a transform to normalize the video input\n",
    "    video_data = transform(video_data)\n",
    "\n",
    "    # Move the inputs to the desired device\n",
    "    inputs = video_data[\"video\"]\n",
    "    inputs = inputs.to(device)\n",
    "    return inputs"
   ]
  },
  {
   "cell_type": "code",
   "execution_count": null,
   "metadata": {},
   "outputs": [],
   "source": [
    "# clip_duration"
   ]
  },
  {
   "cell_type": "code",
   "execution_count": null,
   "metadata": {},
   "outputs": [],
   "source": [
    "inputs = get_inp(video_path, start_sec, clip_duration)"
   ]
  },
  {
   "cell_type": "markdown",
   "metadata": {},
   "source": [
    "### Get model predictions"
   ]
  },
  {
   "cell_type": "code",
   "execution_count": 42,
   "metadata": {},
   "outputs": [],
   "source": [
    "def get_preds(inputs, model, kinetics_id_to_classname):\n",
    "    # Pass the input clip through the model \n",
    "    preds = model(inputs[None, ...])\n",
    "\n",
    "    # Get the predicted classes \n",
    "    post_act = torch.nn.Softmax(dim=1)\n",
    "    preds = post_act(preds)\n",
    "\n",
    "    preds1 = preds.topk(k=5)\n",
    "    pred_classes = preds1.indices\n",
    "    pred_scores = preds1.values.tolist()[0]\n",
    "    # Map the predicted classes to the label names\n",
    "    pred_class_names = [kinetics_id_to_classname[int(i)] for i in pred_classes[0]]\n",
    "#     print(\"Predicted labels: %s\" % \", \".join(pred_class_names))\n",
    "    return (pred_class_names, pred_scores)"
   ]
  },
  {
   "cell_type": "code",
   "execution_count": 7,
   "metadata": {},
   "outputs": [],
   "source": [
    "def full_pipe(video_path, start_sec, clip_duration, model, kinetics_id_to_classname):\n",
    "    inputs = get_inp(video_path, start_sec, clip_duration)\n",
    "    pred_cls = get_preds(inputs, model, kinetics_id_to_classname)\n",
    "    return pred_cls"
   ]
  },
  {
   "cell_type": "markdown",
   "metadata": {},
   "source": [
    "# Visualize"
   ]
  },
  {
   "cell_type": "code",
   "execution_count": 8,
   "metadata": {},
   "outputs": [],
   "source": [
    "from IPython.display import HTML"
   ]
  },
  {
   "cell_type": "code",
   "execution_count": 9,
   "metadata": {},
   "outputs": [
    {
     "name": "stdout",
     "output_type": "stream",
     "text": [
      "Predicted labels: archery, throwing axe, playing paintball, stretching arm, riding or walking with horse\n"
     ]
    }
   ],
   "source": [
    "video_path = '../../temp_dir2/archery.mp4'\n",
    "!cp {video_path} ./yt_vids/\n",
    "start_sec = 0\n",
    "pred_class_names = full_pipe(video_path, start_sec, clip_duration, model, kinetics_id_to_classname)"
   ]
  },
  {
   "cell_type": "code",
   "execution_count": 11,
   "metadata": {},
   "outputs": [],
   "source": [
    "from pathlib import Path"
   ]
  },
  {
   "cell_type": "code",
   "execution_count": 12,
   "metadata": {},
   "outputs": [],
   "source": [
    "video_path_html = Path('yt_vids') / Path(video_path).name"
   ]
  },
  {
   "cell_type": "code",
   "execution_count": 13,
   "metadata": {},
   "outputs": [
    {
     "data": {
      "text/plain": [
       "PosixPath('yt_vids/archery.mp4')"
      ]
     },
     "execution_count": 13,
     "metadata": {},
     "output_type": "execute_result"
    }
   ],
   "source": [
    "video_path_html"
   ]
  },
  {
   "cell_type": "code",
   "execution_count": 15,
   "metadata": {},
   "outputs": [],
   "source": [
    "def display_html(video_path_html, start_sec, end_sec, pred_class_names):\n",
    "    return HTML(f\"\"\"\n",
    "<video width=\"320\" height=\"240\" controls>\n",
    "  <source src=\"{video_path_html}#t={start_sec},{end_sec}\" type=\"video/mp4\">\n",
    "</video>\n",
    "<br>\n",
    "<span> Predicted Classes: {pred_class_names} </span>\n",
    "\"\"\")"
   ]
  },
  {
   "cell_type": "code",
   "execution_count": 46,
   "metadata": {},
   "outputs": [],
   "source": [
    "def viz(video_path, start_sec, clip_duration, model, kinetics_id_to_classname):\n",
    "#     video_path = '../../temp_dir2/archery.mp4'\n",
    "    !cp {video_path} ./yt_vids/\n",
    "#     start_sec = 2\n",
    "    video_path_html = Path('yt_vids') / Path(video_path).name\n",
    "    pred_class_names, pred_scores = full_pipe(video_path, start_sec, clip_duration, model, kinetics_id_to_classname)\n",
    "    pred_cls_scores = [(x, y) for x, y in zip(pred_class_names, pred_scores)]\n",
    "    print(pred_class_names, pred_scores)\n",
    "    return display_html(video_path_html, start_sec, start_sec+clip_duration, pred_cls_scores)"
   ]
  },
  {
   "cell_type": "code",
   "execution_count": 43,
   "metadata": {},
   "outputs": [
    {
     "name": "stdout",
     "output_type": "stream",
     "text": [
      "['archery', 'throwing axe', 'playing paintball', 'stretching arm', 'riding or walking with horse'] [1.0, 2.665544691409166e-21, 4.776629300621033e-24, 1.6704025143984983e-24, 1.4239494007063247e-25]\n"
     ]
    },
    {
     "data": {
      "text/html": [
       "\n",
       "<video width=\"320\" height=\"240\" controls>\n",
       "  <source src=\"yt_vids/archery.mp4#t=0,2.1333333333333333\" type=\"video/mp4\">\n",
       "</video>\n",
       "<br>\n",
       "<span> Predicted Classes: [('archery', 1.0), ('throwing axe', 2.665544691409166e-21), ('playing paintball', 4.776629300621033e-24), ('stretching arm', 1.6704025143984983e-24), ('riding or walking with horse', 1.4239494007063247e-25)] </span>\n"
      ],
      "text/plain": [
       "<IPython.core.display.HTML object>"
      ]
     },
     "execution_count": 43,
     "metadata": {},
     "output_type": "execute_result"
    }
   ],
   "source": [
    "viz(video_path, start_sec, clip_duration, model, kinetics_id_to_classname)"
   ]
  },
  {
   "cell_type": "code",
   "execution_count": 44,
   "metadata": {},
   "outputs": [
    {
     "name": "stdout",
     "output_type": "stream",
     "text": [
      "['archery', 'throwing axe', 'stretching arm', 'playing paintball', 'golf driving'] [1.0, 6.124903375269271e-22, 4.0900786258189156e-25, 2.903209968671495e-26, 2.6353279045492036e-26]\n"
     ]
    },
    {
     "data": {
      "text/html": [
       "\n",
       "<video width=\"320\" height=\"240\" controls>\n",
       "  <source src=\"yt_vids/archery.mp4#t=4,6.133333333333333\" type=\"video/mp4\">\n",
       "</video>\n",
       "<br>\n",
       "<span> Predicted Classes: [('archery', 1.0), ('throwing axe', 6.124903375269271e-22), ('stretching arm', 4.0900786258189156e-25), ('playing paintball', 2.903209968671495e-26), ('golf driving', 2.6353279045492036e-26)] </span>\n"
      ],
      "text/plain": [
       "<IPython.core.display.HTML object>"
      ]
     },
     "execution_count": 44,
     "metadata": {},
     "output_type": "execute_result"
    }
   ],
   "source": [
    "viz(video_path, 4, clip_duration, model, kinetics_id_to_classname)"
   ]
  },
  {
   "cell_type": "code",
   "execution_count": null,
   "metadata": {},
   "outputs": [],
   "source": []
  },
  {
   "cell_type": "code",
   "execution_count": 49,
   "metadata": {},
   "outputs": [
    {
     "name": "stdout",
     "output_type": "stream",
     "text": [
      "['barbequing', 'extinguishing fire', 'archery', 'smoking', 'cooking chicken'] [0.25146159529685974, 0.04925118386745453, 0.04196379333734512, 0.04175801947712898, 0.03815781697630882]\n"
     ]
    },
    {
     "data": {
      "text/html": [
       "\n",
       "<video width=\"320\" height=\"240\" controls>\n",
       "  <source src=\"yt_vids/v_23v-gPJiaZs_seg_100_110_trimmed.mp4#t=6,8.133333333333333\" type=\"video/mp4\">\n",
       "</video>\n",
       "<br>\n",
       "<span> Predicted Classes: [('barbequing', 0.25146159529685974), ('extinguishing fire', 0.04925118386745453), ('archery', 0.04196379333734512), ('smoking', 0.04175801947712898), ('cooking chicken', 0.03815781697630882)] </span>\n"
      ],
      "text/plain": [
       "<IPython.core.display.HTML object>"
      ]
     },
     "execution_count": 49,
     "metadata": {},
     "output_type": "execute_result"
    }
   ],
   "source": [
    "video_path = '/home/arkas/Datasets/vsitu_data/vsitu_trimmed_videos_mp4/v_23v-gPJiaZs_seg_100_110_trimmed.mp4'\n",
    "viz(video_path, 6, clip_duration, model, kinetics_id_to_classname)"
   ]
  }
 ],
 "metadata": {
  "bento_stylesheets": {
   "bento/extensions/flow/main.css": true,
   "bento/extensions/kernel_selector/main.css": true,
   "bento/extensions/kernel_ui/main.css": true,
   "bento/extensions/new_kernel/main.css": true,
   "bento/extensions/system_usage/main.css": true,
   "bento/extensions/theme/main.css": true
  },
  "kernelspec": {
   "display_name": "Python 3",
   "language": "python",
   "name": "python3"
  },
  "language_info": {
   "codemirror_mode": {
    "name": "ipython",
    "version": 3
   },
   "file_extension": ".py",
   "mimetype": "text/x-python",
   "name": "python",
   "nbconvert_exporter": "python",
   "pygments_lexer": "ipython3",
   "version": "3.7.7"
  }
 },
 "nbformat": 4,
 "nbformat_minor": 4
}
