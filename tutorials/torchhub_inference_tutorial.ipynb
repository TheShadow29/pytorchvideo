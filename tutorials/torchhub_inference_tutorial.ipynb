{
 "cells": [
  {
   "cell_type": "markdown",
   "metadata": {},
   "source": [
    "# Torch Hub Inference Tutorial\n",
    "\n",
    "In this tutorial you'll learn:\n",
    "- how to load a pretrained model using Torch Hub \n",
    "- run inference to classify the action in a demo video\n",
    "\n",
    "\n",
    "NOTE: Currently this tutorial will only work with a local clone of the PyTorchVideo GitHub repo. "
   ]
  },
  {
   "cell_type": "markdown",
   "metadata": {},
   "source": [
    "### Import modules"
   ]
  },
  {
   "cell_type": "code",
   "execution_count": 1,
   "metadata": {},
   "outputs": [],
   "source": [
    "import json \n",
    "import torch\n",
    "from torchvision.transforms import Compose, Lambda\n",
    "from torchvision.transforms._transforms_video import (\n",
    "    CenterCropVideo,\n",
    "    NormalizeVideo,\n",
    ")\n",
    "from pytorchvideo.data.encoded_video import EncodedVideo\n",
    "from pytorchvideo.transforms import (\n",
    "    ApplyTransformToKey,\n",
    "    ShortSideScale,\n",
    "    UniformTemporalSubsample\n",
    ") "
   ]
  },
  {
   "cell_type": "markdown",
   "metadata": {},
   "source": [
    "### Setup \n",
    "\n",
    "Download the id to label mapping for the Kinetics 400 dataset on which the torch hub models were trained. \n",
    "This will be used to get the category label names from the predicted class ids."
   ]
  },
  {
   "cell_type": "code",
   "execution_count": 2,
   "metadata": {},
   "outputs": [
    {
     "name": "stdout",
     "output_type": "stream",
     "text": [
      "--2021-04-15 10:08:25--  https://dl.fbaipublicfiles.com/pyslowfast/dataset/class_names/kinetics_classnames.json\n",
      "Resolving dl.fbaipublicfiles.com (dl.fbaipublicfiles.com)... 104.22.74.142, 104.22.75.142, 172.67.9.4, ...\n",
      "Connecting to dl.fbaipublicfiles.com (dl.fbaipublicfiles.com)|104.22.74.142|:443... connected.\n",
      "HTTP request sent, awaiting response... 200 OK\n",
      "Length: 10326 (10K) [text/plain]\n",
      "Saving to: ‘kinetics_classnames.json.6’\n",
      "\n",
      "kinetics_classnames 100%[===================>]  10.08K  --.-KB/s    in 0s      \n",
      "\n",
      "2021-04-15 10:08:25 (23.0 MB/s) - ‘kinetics_classnames.json.6’ saved [10326/10326]\n",
      "\n"
     ]
    }
   ],
   "source": [
    "!wget https://dl.fbaipublicfiles.com/pyslowfast/dataset/class_names/kinetics_classnames.json "
   ]
  },
  {
   "cell_type": "code",
   "execution_count": 3,
   "metadata": {},
   "outputs": [],
   "source": [
    "with open(\"kinetics_classnames.json\", \"r\") as f:\n",
    "    kinetics_classnames = json.load(f)\n",
    "\n",
    "# Create an id to label name mapping\n",
    "kinetics_id_to_classname = {}\n",
    "for k, v in kinetics_classnames.items():\n",
    "    kinetics_id_to_classname[v] = str(k).replace('\"', \"\")"
   ]
  },
  {
   "cell_type": "markdown",
   "metadata": {},
   "source": [
    "### Load Model using Torch Hub API\n",
    "\n",
    "PyTorchVideo provides several pretrained models through Torch Hub. Available models are described in [model zoo documentation](https://github.com/facebookresearch/pytorchvideo/blob/master/docs/source/model_zoo.md#kinetics-400). \n",
    "\n",
    "Here we are selecting the `slow_r50` model which was trained using a 8x8 setting on the Kinetics 400 dataset. \n"
   ]
  },
  {
   "cell_type": "code",
   "execution_count": 4,
   "metadata": {},
   "outputs": [],
   "source": [
    "# Device on which to run the model\n",
    "device = \"cuda:1\"\n",
    "\n",
    "# Pick a pretrained model \n",
    "model_name = \"slow_r50\"\n",
    "\n",
    "# Local path to the parent folder of hubconf.py in the pytorchvideo codebase\n",
    "path = '../' \n",
    "model = torch.hub.load(path, source=\"local\", model=model_name, pretrained=True)\n",
    "\n",
    "# Set to eval mode and move to desired device\n",
    "model = model.eval()\n",
    "model = model.to(device)"
   ]
  },
  {
   "cell_type": "markdown",
   "metadata": {},
   "source": [
    "### Define the transformations for the input required by the model\n",
    "\n",
    "Before passing the video into the model we need to apply some input transforms and sample a clip of the correct duration. "
   ]
  },
  {
   "cell_type": "code",
   "execution_count": 5,
   "metadata": {},
   "outputs": [],
   "source": [
    "side_size = 256\n",
    "mean = [0.45, 0.45, 0.45]\n",
    "std = [0.225, 0.225, 0.225]\n",
    "crop_size = 256\n",
    "num_frames = 8\n",
    "sampling_rate = 8\n",
    "frames_per_second = 30\n",
    "\n",
    "# Note that this transform is specific to the slow_R50 model. \n",
    "# If you want to try another of the torch hub models you will need to modify this transform\n",
    "transform =  ApplyTransformToKey(\n",
    "    key=\"video\",\n",
    "    transform=Compose(\n",
    "        [\n",
    "            UniformTemporalSubsample(num_frames),\n",
    "            Lambda(lambda x: x/255.0),\n",
    "            NormalizeVideo(mean, std),\n",
    "            ShortSideScale(\n",
    "                size=side_size\n",
    "            ),\n",
    "            CenterCropVideo(crop_size=(crop_size, crop_size))\n",
    "        ]\n",
    "    ),\n",
    ")\n",
    "\n",
    "# The duration of the input clip is also specific to the model.\n",
    "clip_duration = (num_frames * sampling_rate)/frames_per_second"
   ]
  },
  {
   "cell_type": "markdown",
   "metadata": {},
   "source": [
    "### Load an example video\n",
    "We can test the classification of an example video from the kinetics validation set such as this [archery video](https://www.youtube.com/watch?v=3and4vWkW4s)."
   ]
  },
  {
   "cell_type": "code",
   "execution_count": 6,
   "metadata": {},
   "outputs": [],
   "source": [
    "# Download the example video file\n",
    "# !wget https://dl.fbaipublicfiles.com/pytorchvideo/projects/archery.mp4 "
   ]
  },
  {
   "cell_type": "code",
   "execution_count": 7,
   "metadata": {},
   "outputs": [],
   "source": [
    "# Load the example video\n",
    "# video_path = \"archery.mp4\"  \n",
    "\n",
    "# Select the duration of the clip to load by specifying the start and end duration\n",
    "# The start_sec should correspond to where the action occurs in the video\n",
    "# start_sec = 0"
   ]
  },
  {
   "cell_type": "code",
   "execution_count": 8,
   "metadata": {},
   "outputs": [],
   "source": [
    "def get_inp(video_path, start_sec, clip_duration):\n",
    "    end_sec = start_sec + clip_duration \n",
    "\n",
    "    # Initialize an EncodedVideo helper class\n",
    "    video = EncodedVideo.from_path(video_path)\n",
    "\n",
    "    # Load the desired clip\n",
    "    video_data = video.get_clip(start_sec=start_sec, end_sec=end_sec)\n",
    "\n",
    "    # Apply a transform to normalize the video input\n",
    "    video_data = transform(video_data)\n",
    "\n",
    "    # Move the inputs to the desired device\n",
    "    inputs = video_data[\"video\"]\n",
    "    inputs = inputs.to(device)\n",
    "    return inputs"
   ]
  },
  {
   "cell_type": "code",
   "execution_count": 9,
   "metadata": {},
   "outputs": [],
   "source": [
    "# clip_duration"
   ]
  },
  {
   "cell_type": "code",
   "execution_count": 10,
   "metadata": {},
   "outputs": [],
   "source": [
    "# inputs = get_inp(video_path, start_sec, clip_duration)"
   ]
  },
  {
   "cell_type": "markdown",
   "metadata": {},
   "source": [
    "### Get model predictions"
   ]
  },
  {
   "cell_type": "code",
   "execution_count": 11,
   "metadata": {},
   "outputs": [],
   "source": [
    "def get_preds(inputs, model, kinetics_id_to_classname):\n",
    "    # Pass the input clip through the model \n",
    "    preds = model(inputs[None, ...])\n",
    "\n",
    "    # Get the predicted classes \n",
    "    post_act = torch.nn.Softmax(dim=1)\n",
    "    preds = post_act(preds)\n",
    "\n",
    "    preds1 = preds.topk(k=5)\n",
    "    pred_classes = preds1.indices\n",
    "    pred_scores = preds1.values.tolist()[0]\n",
    "    # Map the predicted classes to the label names\n",
    "    pred_class_names = [kinetics_id_to_classname[int(i)] for i in pred_classes[0]]\n",
    "#     print(\"Predicted labels: %s\" % \", \".join(pred_class_names))\n",
    "    return (pred_class_names, pred_scores)"
   ]
  },
  {
   "cell_type": "code",
   "execution_count": 12,
   "metadata": {},
   "outputs": [],
   "source": [
    "def full_pipe(video_path, start_sec, clip_duration, model, kinetics_id_to_classname):\n",
    "    inputs = get_inp(video_path, start_sec, clip_duration)\n",
    "    pred_cls = get_preds(inputs, model, kinetics_id_to_classname)\n",
    "    return pred_cls"
   ]
  },
  {
   "cell_type": "markdown",
   "metadata": {},
   "source": [
    "# Visualize"
   ]
  },
  {
   "cell_type": "code",
   "execution_count": 13,
   "metadata": {},
   "outputs": [],
   "source": [
    "from IPython.display import HTML\n",
    "from pathlib import Path"
   ]
  },
  {
   "cell_type": "code",
   "execution_count": 14,
   "metadata": {},
   "outputs": [],
   "source": [
    "# video_path = '../../temp_dir2/archery.mp4'\n",
    "# !cp {video_path} ./yt_vids/\n",
    "# start_sec = 0\n",
    "# pred_class_names = full_pipe(video_path, start_sec, clip_duration, model, kinetics_id_to_classname)"
   ]
  },
  {
   "cell_type": "code",
   "execution_count": 15,
   "metadata": {},
   "outputs": [],
   "source": [
    "# from pathlib import Path"
   ]
  },
  {
   "cell_type": "code",
   "execution_count": 16,
   "metadata": {},
   "outputs": [],
   "source": [
    "# video_path_html = Path('yt_vids') / Path(video_path).name"
   ]
  },
  {
   "cell_type": "code",
   "execution_count": 17,
   "metadata": {},
   "outputs": [],
   "source": [
    "# video_path_html"
   ]
  },
  {
   "cell_type": "code",
   "execution_count": 18,
   "metadata": {},
   "outputs": [],
   "source": [
    "def display_html(video_path_html, start_sec, end_sec, pred_class_names):\n",
    "    return HTML(f\"\"\"\n",
    "<video width=\"320\" height=\"240\" controls>\n",
    "  <source src=\"{video_path_html}#t={start_sec},{end_sec}\" type=\"video/mp4\">\n",
    "</video>\n",
    "<br>\n",
    "<span> Predicted Classes: {pred_class_names} </span>\n",
    "\"\"\")"
   ]
  },
  {
   "cell_type": "code",
   "execution_count": 19,
   "metadata": {},
   "outputs": [],
   "source": [
    "def viz(video_path, start_sec, clip_duration, model, kinetics_id_to_classname):\n",
    "#     video_path = '../../temp_dir2/archery.mp4'\n",
    "    !cp {video_path} ./yt_vids/\n",
    "#     start_sec = 2\n",
    "    video_path_html = Path('yt_vids') / Path(video_path).name\n",
    "    pred_class_names, pred_scores = full_pipe(video_path, start_sec, clip_duration, model, kinetics_id_to_classname)\n",
    "    pred_cls_scores = [(x, y) for x, y in zip(pred_class_names, pred_scores)]\n",
    "    print(pred_class_names, pred_scores)\n",
    "    return display_html(video_path_html, start_sec, start_sec+clip_duration, pred_cls_scores)"
   ]
  },
  {
   "cell_type": "code",
   "execution_count": 20,
   "metadata": {},
   "outputs": [],
   "source": [
    "video_path = '../../temp_dir2/archery.mp4'"
   ]
  },
  {
   "cell_type": "code",
   "execution_count": 25,
   "metadata": {},
   "outputs": [
    {
     "name": "stdout",
     "output_type": "stream",
     "text": [
      "['archery', 'throwing axe', 'stretching arm', 'playing paintball', 'golf driving'] [1.0, 6.124903375269271e-22, 4.0900786258189156e-25, 2.903209968671495e-26, 2.6353279045492036e-26]\n"
     ]
    },
    {
     "data": {
      "text/html": [
       "\n",
       "<video width=\"320\" height=\"240\" controls>\n",
       "  <source src=\"yt_vids/archery.mp4#t=4,6.133333333333333\" type=\"video/mp4\">\n",
       "</video>\n",
       "<br>\n",
       "<span> Predicted Classes: [('archery', 1.0), ('throwing axe', 6.124903375269271e-22), ('stretching arm', 4.0900786258189156e-25), ('playing paintball', 2.903209968671495e-26), ('golf driving', 2.6353279045492036e-26)] </span>\n"
      ],
      "text/plain": [
       "<IPython.core.display.HTML object>"
      ]
     },
     "execution_count": 25,
     "metadata": {},
     "output_type": "execute_result"
    }
   ],
   "source": [
    "viz(video_path, 4, clip_duration, model, kinetics_id_to_classname)"
   ]
  },
  {
   "cell_type": "code",
   "execution_count": null,
   "metadata": {},
   "outputs": [],
   "source": [
    "viz(video_path, 4, clip_duration, model, kinetics_id_to_classname)"
   ]
  },
  {
   "cell_type": "code",
   "execution_count": null,
   "metadata": {},
   "outputs": [],
   "source": []
  },
  {
   "cell_type": "code",
   "execution_count": 42,
   "metadata": {},
   "outputs": [
    {
     "name": "stdout",
     "output_type": "stream",
     "text": [
      "['surfing water', 'water sliding', 'water skiing', 'canoeing or kayaking', 'tobogganing'] [0.3097037672996521, 0.2552003562450409, 0.09520424902439117, 0.054224465042352676, 0.04071252793073654]\n"
     ]
    },
    {
     "data": {
      "text/html": [
       "\n",
       "<video width=\"320\" height=\"240\" controls>\n",
       "  <source src=\"yt_vids/v_-33sUQVbQ24_seg_100_110_trimmed.mp4#t=6,8.133333333333333\" type=\"video/mp4\">\n",
       "</video>\n",
       "<br>\n",
       "<span> Predicted Classes: [('surfing water', 0.3097037672996521), ('water sliding', 0.2552003562450409), ('water skiing', 0.09520424902439117), ('canoeing or kayaking', 0.054224465042352676), ('tobogganing', 0.04071252793073654)] </span>\n"
      ],
      "text/plain": [
       "<IPython.core.display.HTML object>"
      ]
     },
     "execution_count": 42,
     "metadata": {},
     "output_type": "execute_result"
    }
   ],
   "source": [
    "video_path = '/home/arkas/Datasets/vsitu_data/vsitu_trimmed_videos_mp4/v_-33sUQVbQ24_seg_100_110_trimmed.mp4'\n",
    "viz(video_path, 6, clip_duration, model, kinetics_id_to_classname)"
   ]
  },
  {
   "cell_type": "code",
   "execution_count": 32,
   "metadata": {},
   "outputs": [
    {
     "data": {
      "text/plain": [
       "{'\"sharpening knives\"': 290,\n",
       " '\"eating ice cream\"': 115,\n",
       " '\"cutting nails\"': 81,\n",
       " '\"changing wheel\"': 53,\n",
       " '\"bench pressing\"': 19,\n",
       " 'deadlifting': 88,\n",
       " '\"eating carrots\"': 111,\n",
       " 'marching': 192,\n",
       " '\"throwing discus\"': 358,\n",
       " '\"playing flute\"': 231,\n",
       " '\"cooking on campfire\"': 72,\n",
       " '\"breading or breadcrumbing\"': 33,\n",
       " '\"playing badminton\"': 218,\n",
       " '\"ripping paper\"': 276,\n",
       " '\"playing saxophone\"': 244,\n",
       " '\"milking cow\"': 197,\n",
       " '\"juggling balls\"': 169,\n",
       " '\"flying kite\"': 130,\n",
       " 'capoeira': 43,\n",
       " '\"making jewelry\"': 187,\n",
       " 'drinking': 100,\n",
       " '\"playing cymbals\"': 228,\n",
       " '\"cleaning gutters\"': 61,\n",
       " '\"hurling (sport)\"': 161,\n",
       " '\"playing organ\"': 239,\n",
       " '\"tossing coin\"': 361,\n",
       " 'wrestling': 395,\n",
       " '\"driving car\"': 103,\n",
       " 'headbutting': 150,\n",
       " '\"gymnastics tumbling\"': 147,\n",
       " '\"making bed\"': 186,\n",
       " 'abseiling': 0,\n",
       " '\"holding snake\"': 155,\n",
       " '\"rock climbing\"': 278,\n",
       " '\"cooking egg\"': 71,\n",
       " '\"long jump\"': 182,\n",
       " '\"bee keeping\"': 17,\n",
       " '\"trimming or shaving beard\"': 365,\n",
       " '\"cleaning shoes\"': 63,\n",
       " '\"dancing gangnam style\"': 86,\n",
       " '\"catching or throwing softball\"': 50,\n",
       " '\"ice skating\"': 164,\n",
       " 'jogging': 168,\n",
       " '\"eating spaghetti\"': 116,\n",
       " 'bobsledding': 28,\n",
       " '\"assembling computer\"': 8,\n",
       " '\"playing cricket\"': 227,\n",
       " '\"playing monopoly\"': 238,\n",
       " '\"golf putting\"': 143,\n",
       " '\"making pizza\"': 188,\n",
       " '\"javelin throw\"': 166,\n",
       " '\"peeling potatoes\"': 211,\n",
       " 'clapping': 57,\n",
       " '\"brushing hair\"': 36,\n",
       " '\"flipping pancake\"': 129,\n",
       " '\"drinking beer\"': 101,\n",
       " '\"dribbling basketball\"': 99,\n",
       " '\"playing bagpipes\"': 219,\n",
       " 'somersaulting': 325,\n",
       " '\"canoeing or kayaking\"': 42,\n",
       " '\"riding unicycle\"': 275,\n",
       " 'texting': 355,\n",
       " '\"tasting beer\"': 352,\n",
       " '\"hockey stop\"': 154,\n",
       " '\"playing clarinet\"': 225,\n",
       " '\"waxing legs\"': 389,\n",
       " '\"curling hair\"': 80,\n",
       " '\"running on treadmill\"': 281,\n",
       " '\"tai chi\"': 346,\n",
       " '\"driving tractor\"': 104,\n",
       " '\"shaving legs\"': 293,\n",
       " '\"sharpening pencil\"': 291,\n",
       " '\"making sushi\"': 190,\n",
       " '\"spray painting\"': 327,\n",
       " 'situp': 305,\n",
       " '\"playing kickball\"': 237,\n",
       " '\"sticking tongue out\"': 331,\n",
       " 'headbanging': 149,\n",
       " '\"folding napkins\"': 132,\n",
       " '\"playing piano\"': 241,\n",
       " 'skydiving': 312,\n",
       " '\"dancing charleston\"': 85,\n",
       " '\"ice fishing\"': 163,\n",
       " 'tickling': 359,\n",
       " 'bandaging': 13,\n",
       " '\"high jump\"': 151,\n",
       " '\"making a sandwich\"': 185,\n",
       " '\"riding mountain bike\"': 271,\n",
       " '\"cutting pineapple\"': 82,\n",
       " '\"feeding goats\"': 125,\n",
       " '\"dancing macarena\"': 87,\n",
       " '\"playing basketball\"': 220,\n",
       " 'krumping': 179,\n",
       " '\"high kick\"': 152,\n",
       " '\"balloon blowing\"': 12,\n",
       " '\"playing accordion\"': 217,\n",
       " '\"playing chess\"': 224,\n",
       " '\"hula hooping\"': 159,\n",
       " '\"pushing wheelchair\"': 263,\n",
       " '\"riding camel\"': 268,\n",
       " '\"blowing out candles\"': 27,\n",
       " '\"extinguishing fire\"': 121,\n",
       " '\"using computer\"': 373,\n",
       " '\"jumpstyle dancing\"': 173,\n",
       " 'yawning': 397,\n",
       " 'writing': 396,\n",
       " '\"jumping into pool\"': 172,\n",
       " '\"doing laundry\"': 96,\n",
       " '\"egg hunting\"': 118,\n",
       " '\"sanding floor\"': 284,\n",
       " '\"moving furniture\"': 200,\n",
       " '\"exercising arm\"': 119,\n",
       " '\"sword fighting\"': 345,\n",
       " '\"sign language interpreting\"': 303,\n",
       " '\"counting money\"': 74,\n",
       " 'bartending': 15,\n",
       " '\"cleaning windows\"': 65,\n",
       " '\"blasting sand\"': 23,\n",
       " '\"petting cat\"': 213,\n",
       " 'sniffing': 320,\n",
       " 'bowling': 31,\n",
       " '\"playing poker\"': 242,\n",
       " '\"taking a shower\"': 347,\n",
       " '\"washing hands\"': 382,\n",
       " '\"water sliding\"': 384,\n",
       " '\"presenting weather forecast\"': 254,\n",
       " 'tobogganing': 360,\n",
       " 'celebrating': 51,\n",
       " '\"getting a haircut\"': 138,\n",
       " 'snorkeling': 321,\n",
       " '\"weaving basket\"': 390,\n",
       " '\"playing squash or racquetball\"': 245,\n",
       " 'parasailing': 206,\n",
       " '\"news anchoring\"': 202,\n",
       " '\"belly dancing\"': 18,\n",
       " 'windsurfing': 393,\n",
       " '\"braiding hair\"': 32,\n",
       " '\"crossing river\"': 78,\n",
       " '\"laying bricks\"': 181,\n",
       " '\"roller skating\"': 280,\n",
       " 'hopscotch': 156,\n",
       " '\"playing trumpet\"': 248,\n",
       " '\"dying hair\"': 108,\n",
       " '\"trimming trees\"': 366,\n",
       " '\"pumping fist\"': 256,\n",
       " '\"playing keyboard\"': 236,\n",
       " 'snowboarding': 322,\n",
       " '\"garbage collecting\"': 136,\n",
       " '\"playing controller\"': 226,\n",
       " 'dodgeball': 94,\n",
       " '\"recording music\"': 266,\n",
       " '\"country line dancing\"': 75,\n",
       " '\"dancing ballet\"': 84,\n",
       " 'gargling': 137,\n",
       " 'ironing': 165,\n",
       " '\"push up\"': 260,\n",
       " '\"frying vegetables\"': 135,\n",
       " '\"ski jumping\"': 307,\n",
       " '\"mowing lawn\"': 201,\n",
       " '\"getting a tattoo\"': 139,\n",
       " '\"rock scissors paper\"': 279,\n",
       " 'cheerleading': 55,\n",
       " '\"using remote controller (not gaming)\"': 374,\n",
       " '\"shaking head\"': 289,\n",
       " 'sailing': 282,\n",
       " '\"training dog\"': 363,\n",
       " 'hurdling': 160,\n",
       " '\"fixing hair\"': 128,\n",
       " '\"climbing ladder\"': 67,\n",
       " '\"filling eyebrows\"': 126,\n",
       " '\"springboard diving\"': 329,\n",
       " '\"eating watermelon\"': 117,\n",
       " '\"drumming fingers\"': 106,\n",
       " '\"waxing back\"': 386,\n",
       " '\"playing didgeridoo\"': 229,\n",
       " '\"swimming backstroke\"': 339,\n",
       " '\"biking through snow\"': 22,\n",
       " '\"washing feet\"': 380,\n",
       " '\"mopping floor\"': 198,\n",
       " '\"throwing ball\"': 357,\n",
       " '\"eating doughnuts\"': 113,\n",
       " '\"drinking shots\"': 102,\n",
       " '\"tying bow tie\"': 368,\n",
       " 'dining': 91,\n",
       " '\"surfing water\"': 337,\n",
       " '\"sweeping floor\"': 338,\n",
       " '\"grooming dog\"': 145,\n",
       " '\"catching fish\"': 47,\n",
       " '\"pumping gas\"': 257,\n",
       " '\"riding or walking with horse\"': 273,\n",
       " '\"massaging person\\'s head\"': 196,\n",
       " 'archery': 5,\n",
       " '\"ice climbing\"': 162,\n",
       " '\"playing recorder\"': 243,\n",
       " '\"decorating the christmas tree\"': 89,\n",
       " '\"peeling apples\"': 210,\n",
       " 'snowmobiling': 324,\n",
       " '\"playing ukulele\"': 249,\n",
       " '\"eating burger\"': 109,\n",
       " '\"building cabinet\"': 38,\n",
       " '\"stomping grapes\"': 332,\n",
       " '\"drop kicking\"': 105,\n",
       " '\"passing American football (not in game)\"': 209,\n",
       " 'applauding': 3,\n",
       " 'hugging': 158,\n",
       " '\"eating hotdog\"': 114,\n",
       " '\"pole vault\"': 253,\n",
       " '\"reading newspaper\"': 265,\n",
       " '\"snatch weight lifting\"': 318,\n",
       " 'zumba': 399,\n",
       " '\"playing ice hockey\"': 235,\n",
       " 'breakdancing': 34,\n",
       " '\"feeding fish\"': 124,\n",
       " '\"shredding paper\"': 300,\n",
       " '\"catching or throwing frisbee\"': 49,\n",
       " '\"exercising with an exercise ball\"': 120,\n",
       " '\"pushing cart\"': 262,\n",
       " '\"swimming butterfly stroke\"': 341,\n",
       " '\"riding scooter\"': 274,\n",
       " 'spraying': 328,\n",
       " '\"folding paper\"': 133,\n",
       " '\"golf driving\"': 142,\n",
       " '\"robot dancing\"': 277,\n",
       " '\"bending back\"': 20,\n",
       " 'testifying': 354,\n",
       " '\"waxing chest\"': 387,\n",
       " '\"carving pumpkin\"': 46,\n",
       " '\"hitting baseball\"': 153,\n",
       " '\"riding elephant\"': 269,\n",
       " '\"brushing teeth\"': 37,\n",
       " '\"pull ups\"': 255,\n",
       " '\"riding a bike\"': 267,\n",
       " 'skateboarding': 306,\n",
       " '\"cleaning pool\"': 62,\n",
       " '\"playing paintball\"': 240,\n",
       " '\"massaging back\"': 193,\n",
       " '\"shoveling snow\"': 299,\n",
       " '\"surfing crowd\"': 336,\n",
       " 'unboxing': 371,\n",
       " 'faceplanting': 122,\n",
       " 'trapezing': 364,\n",
       " '\"swinging legs\"': 343,\n",
       " 'hoverboarding': 157,\n",
       " '\"playing violin\"': 250,\n",
       " '\"wrapping present\"': 394,\n",
       " '\"blowing nose\"': 26,\n",
       " '\"kicking field goal\"': 174,\n",
       " '\"picking fruit\"': 214,\n",
       " '\"swinging on something\"': 344,\n",
       " '\"giving or receiving award\"': 140,\n",
       " '\"planting trees\"': 215,\n",
       " '\"water skiing\"': 383,\n",
       " '\"washing dishes\"': 379,\n",
       " '\"punching bag\"': 258,\n",
       " '\"massaging legs\"': 195,\n",
       " '\"throwing axe\"': 356,\n",
       " '\"salsa dancing\"': 283,\n",
       " 'bookbinding': 29,\n",
       " '\"tying tie\"': 370,\n",
       " '\"skiing crosscountry\"': 309,\n",
       " '\"shining shoes\"': 295,\n",
       " '\"making snowman\"': 189,\n",
       " '\"front raises\"': 134,\n",
       " '\"doing nails\"': 97,\n",
       " '\"massaging feet\"': 194,\n",
       " '\"playing drums\"': 230,\n",
       " 'smoking': 316,\n",
       " '\"punching person (boxing)\"': 259,\n",
       " 'cartwheeling': 45,\n",
       " '\"passing American football (in game)\"': 208,\n",
       " '\"shaking hands\"': 288,\n",
       " 'plastering': 216,\n",
       " '\"watering plants\"': 385,\n",
       " 'kissing': 176,\n",
       " 'slapping': 314,\n",
       " '\"playing harmonica\"': 233,\n",
       " 'welding': 391,\n",
       " '\"smoking hookah\"': 317,\n",
       " '\"scrambling eggs\"': 285,\n",
       " '\"cooking chicken\"': 70,\n",
       " '\"pushing car\"': 261,\n",
       " '\"opening bottle\"': 203,\n",
       " '\"cooking sausages\"': 73,\n",
       " '\"catching or throwing baseball\"': 48,\n",
       " '\"swimming breast stroke\"': 340,\n",
       " 'digging': 90,\n",
       " '\"playing xylophone\"': 252,\n",
       " '\"doing aerobics\"': 95,\n",
       " '\"playing trombone\"': 247,\n",
       " 'knitting': 178,\n",
       " '\"waiting in line\"': 377,\n",
       " '\"tossing salad\"': 362,\n",
       " 'squat': 330,\n",
       " 'vault': 376,\n",
       " '\"using segway\"': 375,\n",
       " '\"crawling baby\"': 77,\n",
       " '\"reading book\"': 264,\n",
       " 'motorcycling': 199,\n",
       " 'barbequing': 14,\n",
       " '\"cleaning floor\"': 60,\n",
       " '\"playing cello\"': 223,\n",
       " 'drawing': 98,\n",
       " 'auctioning': 9,\n",
       " '\"carrying baby\"': 44,\n",
       " '\"diving cliff\"': 93,\n",
       " 'busking': 41,\n",
       " '\"cutting watermelon\"': 83,\n",
       " '\"scuba diving\"': 286,\n",
       " '\"riding mechanical bull\"': 270,\n",
       " '\"making tea\"': 191,\n",
       " '\"playing tennis\"': 246,\n",
       " 'crying': 79,\n",
       " '\"dunking basketball\"': 107,\n",
       " '\"cracking neck\"': 76,\n",
       " '\"arranging flowers\"': 7,\n",
       " '\"building shed\"': 39,\n",
       " '\"golf chipping\"': 141,\n",
       " '\"tasting food\"': 353,\n",
       " '\"shaving head\"': 292,\n",
       " '\"answering questions\"': 2,\n",
       " '\"climbing tree\"': 68,\n",
       " '\"skipping rope\"': 311,\n",
       " 'kitesurfing': 177,\n",
       " '\"juggling fire\"': 170,\n",
       " 'laughing': 180,\n",
       " 'paragliding': 205,\n",
       " '\"contact juggling\"': 69,\n",
       " 'slacklining': 313,\n",
       " '\"arm wrestling\"': 6,\n",
       " '\"making a cake\"': 184,\n",
       " '\"finger snapping\"': 127,\n",
       " '\"grooming horse\"': 146,\n",
       " '\"opening present\"': 204,\n",
       " '\"tapping pen\"': 351,\n",
       " 'singing': 304,\n",
       " '\"shot put\"': 298,\n",
       " '\"cleaning toilet\"': 64,\n",
       " '\"spinning poi\"': 326,\n",
       " '\"setting table\"': 287,\n",
       " '\"tying knot (not on a tie)\"': 369,\n",
       " '\"blowing glass\"': 24,\n",
       " '\"eating chips\"': 112,\n",
       " '\"tap dancing\"': 349,\n",
       " '\"climbing a rope\"': 66,\n",
       " '\"brush painting\"': 35,\n",
       " '\"chopping wood\"': 56,\n",
       " '\"stretching leg\"': 334,\n",
       " '\"petting animal (not cat)\"': 212,\n",
       " '\"baking cookies\"': 11,\n",
       " '\"stretching arm\"': 333,\n",
       " 'beatboxing': 16,\n",
       " 'jetskiing': 167,\n",
       " '\"bending metal\"': 21,\n",
       " 'sneezing': 319,\n",
       " '\"folding clothes\"': 131,\n",
       " '\"sled dog racing\"': 315,\n",
       " '\"tapping guitar\"': 350,\n",
       " '\"bouncing on trampoline\"': 30,\n",
       " '\"waxing eyebrows\"': 388,\n",
       " '\"air drumming\"': 1,\n",
       " '\"kicking soccer ball\"': 175,\n",
       " '\"washing hair\"': 381,\n",
       " '\"riding mule\"': 272,\n",
       " '\"blowing leaves\"': 25,\n",
       " '\"strumming guitar\"': 335,\n",
       " '\"playing cards\"': 222,\n",
       " 'snowkiting': 323,\n",
       " '\"playing bass guitar\"': 221,\n",
       " '\"applying cream\"': 4,\n",
       " '\"shooting basketball\"': 296,\n",
       " '\"walking the dog\"': 378,\n",
       " '\"triple jump\"': 367,\n",
       " '\"shearing sheep\"': 294,\n",
       " '\"clay pottery making\"': 58,\n",
       " '\"bungee jumping\"': 40,\n",
       " '\"unloading truck\"': 372,\n",
       " '\"shuffling cards\"': 301,\n",
       " '\"shooting goal (soccer)\"': 297,\n",
       " '\"tango dancing\"': 348,\n",
       " '\"side kick\"': 302,\n",
       " '\"grinding meat\"': 144,\n",
       " 'yoga': 398,\n",
       " '\"hammer throw\"': 148,\n",
       " '\"changing oil\"': 52,\n",
       " '\"checking tires\"': 54,\n",
       " 'parkour': 207,\n",
       " '\"eating cake\"': 110,\n",
       " '\"skiing slalom\"': 310,\n",
       " '\"juggling soccer ball\"': 171,\n",
       " 'whistling': 392,\n",
       " '\"feeding birds\"': 123,\n",
       " '\"playing volleyball\"': 251,\n",
       " '\"swing dancing\"': 342,\n",
       " '\"skiing (not slalom or crosscountry)\"': 308,\n",
       " 'lunge': 183,\n",
       " '\"disc golfing\"': 92,\n",
       " '\"clean and jerk\"': 59,\n",
       " '\"playing guitar\"': 232,\n",
       " '\"baby waking up\"': 10,\n",
       " '\"playing harp\"': 234}"
      ]
     },
     "execution_count": 32,
     "metadata": {},
     "output_type": "execute_result"
    }
   ],
   "source": [
    "kinetics_classnames"
   ]
  }
 ],
 "metadata": {
  "bento_stylesheets": {
   "bento/extensions/flow/main.css": true,
   "bento/extensions/kernel_selector/main.css": true,
   "bento/extensions/kernel_ui/main.css": true,
   "bento/extensions/new_kernel/main.css": true,
   "bento/extensions/system_usage/main.css": true,
   "bento/extensions/theme/main.css": true
  },
  "kernelspec": {
   "display_name": "Python 3",
   "language": "python",
   "name": "python3"
  },
  "language_info": {
   "codemirror_mode": {
    "name": "ipython",
    "version": 3
   },
   "file_extension": ".py",
   "mimetype": "text/x-python",
   "name": "python",
   "nbconvert_exporter": "python",
   "pygments_lexer": "ipython3",
   "version": "3.7.7"
  }
 },
 "nbformat": 4,
 "nbformat_minor": 4
}
